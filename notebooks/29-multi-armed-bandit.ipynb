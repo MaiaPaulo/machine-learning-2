{
 "cells": [
  {
   "cell_type": "markdown",
   "id": "9d372ec9-ecc4-443d-9017-49c4590acb33",
   "metadata": {},
   "source": [
    "# Multi-Armed Bandit"
   ]
  },
  {
   "cell_type": "code",
   "execution_count": 38,
   "id": "d131365e-3c81-410a-b2c4-73e5e908198a",
   "metadata": {},
   "outputs": [],
   "source": [
    "import numpy as np\n",
    "import pandas as pd\n",
    "import matplotlib.pyplot as plt"
   ]
  },
  {
   "cell_type": "code",
   "execution_count": 39,
   "id": "cd2e92f0-f829-401a-8219-758f97ccd54d",
   "metadata": {},
   "outputs": [
    {
     "name": "stdout",
     "output_type": "stream",
     "text": [
      "Mean Min Max\n",
      "5.073636315053099 3.775924569643454 6.1352518512527565\n",
      "5.146085475451074 1.745728188565228 8.919951399731124\n",
      "5.10934176170231 -1.1703510351591113 10.829739258476689\n"
     ]
    }
   ],
   "source": [
    "restaurants = []\n",
    "\n",
    "restaurants.append(np.random.normal(loc=5, scale=0.5, size=100))\n",
    "restaurants.append(np.random.normal(loc=5, scale=1.5, size=100))\n",
    "restaurants.append(np.random.normal(loc=5, scale=2, size=100))\n",
    "\n",
    "print('Mean', 'Min', 'Max')\n",
    "print(restaurants[0].mean(), restaurants[0].min(), restaurants[0].max())\n",
    "print(restaurants[1].mean(), restaurants[1].min(), restaurants[1].max())\n",
    "print(restaurants[2].mean(), restaurants[2].min(), restaurants[2].max())"
   ]
  },
  {
   "cell_type": "code",
   "execution_count": 40,
   "id": "f3855421-fcf5-4a39-a494-1a7bcfd0a0eb",
   "metadata": {},
   "outputs": [
    {
     "data": {
      "image/png": "[encoded data removed]",
      "text/plain": [
       "<Figure size 432x288 with 1 Axes>"
      ]
     },
     "metadata": {
      "needs_background": "light"
     },
     "output_type": "display_data"
    }
   ],
   "source": [
    "plt.hist(restaurants[0], bins=20, alpha=0.5, label=\"Restaurant #1\")\n",
    "plt.hist(restaurants[1], bins=20, alpha=0.5, label=\"Restaurant #2\")\n",
    "plt.hist(restaurants[2], bins=20, alpha=0.5, label=\"Restaurant #3\")\n",
    "plt.legend()\n",
    "plt.show()"
   ]
  },
  {
   "cell_type": "code",
   "execution_count": 36,
   "id": "28070137-b67b-4174-8722-2ba253403a6a",
   "metadata": {},
   "outputs": [
    {
     "data": {
      "text/plain": [
       "4.899511908414683"
      ]
     },
     "execution_count": 36,
     "metadata": {},
     "output_type": "execute_result"
    }
   ],
   "source": [
    "# randomly selecting an element from the population\n",
    "\n",
    "np.random.choice(restaurants[0], 1)[0]"
   ]
  },
  {
   "cell_type": "markdown",
   "id": "a2d47060-1959-4d09-b38f-6f826c1110a0",
   "metadata": {},
   "source": [
    "## Exploration"
   ]
  },
  {
   "cell_type": "code",
   "execution_count": 43,
   "id": "ceb950e1-9d0c-4a7c-a46e-26aea95e73f7",
   "metadata": {},
   "outputs": [
    {
     "name": "stdout",
     "output_type": "stream",
     "text": [
      "Total Reward: 1532.12\n",
      "Selected Restaurants: [94, 109, 97]\n"
     ]
    }
   ],
   "source": [
    "total_rewards = 0\n",
    "selected_restaurants = [0, 0, 0]\n",
    "for i in range(300):\n",
    "    random_restaurant = np.random.choice(3, 1)[0]\n",
    "    selected_restaurants[random_restaurant] += 1\n",
    "    reward = np.random.choice(restaurants[random_restaurant], 1)[0]\n",
    "    total_rewards += reward\n",
    "    \n",
    "print(f\"Total Reward: {total_rewards:.2f}\")\n",
    "print(f\"Selected Restaurants: {selected_restaurants}\")"
   ]
  },
  {
   "cell_type": "markdown",
   "id": "b36113a6-dd9e-4b50-a58e-b671939c0281",
   "metadata": {},
   "source": [
    "## Exploitation"
   ]
  },
  {
   "cell_type": "code",
   "execution_count": 46,
   "id": "62efa2bd-e282-4433-b76b-9cc10a5c8f96",
   "metadata": {},
   "outputs": [
    {
     "data": {
      "text/plain": [
       "[5.59942102068167, 6.4275976749824855, 1.311625968164484]"
      ]
     },
     "execution_count": 46,
     "metadata": {},
     "output_type": "execute_result"
    }
   ],
   "source": [
    "total_rewards = 0\n",
    "initial_rewards = []\n",
    "selected_restaurants = [0, 0, 0]\n",
    "\n",
    "for i in range(3):\n",
    "    selected_restaurants[i] += 1\n",
    "    reward = np.random.choice(restaurants[i], 1)[0]\n",
    "    initial_rewards.append(reward)\n",
    "    total_rewards = reward\n",
    "\n",
    "initial_rewards"
   ]
  },
  {
   "cell_type": "code",
   "execution_count": 47,
   "id": "4f4a5e69-43ed-46ae-adf5-afb206eb840c",
   "metadata": {},
   "outputs": [
    {
     "data": {
      "text/plain": [
       "1"
      ]
     },
     "execution_count": 47,
     "metadata": {},
     "output_type": "execute_result"
    }
   ],
   "source": [
    "restaurant_max_reward = np.argmax(initial_rewards)\n",
    "restaurant_max_reward"
   ]
  },
  {
   "cell_type": "code",
   "execution_count": 49,
   "id": "cc1a79af-8117-48b5-9b77-ea439f83751a",
   "metadata": {},
   "outputs": [
    {
     "name": "stdout",
     "output_type": "stream",
     "text": [
      "Total Reward: 1546.80\n"
     ]
    }
   ],
   "source": [
    "for i in range(297):\n",
    "    selected_restaurants[restaurant_max_reward] += 1\n",
    "    reward = np.random.choice(restaurants[restaurant_max_reward], 1)[0]\n",
    "    total_rewards += reward\n",
    "\n",
    "print(f\"Total Reward: {total_rewards:.2f}\")\n"
   ]
  },
  {
   "cell_type": "markdown",
   "id": "2f03287d-a5ad-4722-a3a4-9c09db901c56",
   "metadata": {},
   "source": [
    "## Epsilon-Greedy"
   ]
  },
  {
   "cell_type": "code",
   "execution_count": 59,
   "id": "fd2a9ba6-3459-4ec4-a3d7-709817c1876a",
   "metadata": {},
   "outputs": [
    {
     "name": "stdout",
     "output_type": "stream",
     "text": [
      "60 240\n",
      "Total Reward: 1554.84\n",
      "Visited Restaurants: [27, 207, 66]\n"
     ]
    }
   ],
   "source": [
    "epsilon = 0.2 # 20%\n",
    "total_rewards = 0\n",
    "visits_restaurants = [0, 0, 0]\n",
    "mean_restaurants = [0, 0, 0]\n",
    "\n",
    "explore_count = 0\n",
    "exploite_count = 0\n",
    "\n",
    "for i in range(300):\n",
    "    \n",
    "    steps = int(300 / (300 * epsilon))\n",
    "    if (i + 1) % steps == 0:\n",
    "        # explore\n",
    "        restaurant = np.random.choice(3, 1)[0]\n",
    "        explore_count += 1\n",
    "    else:\n",
    "        # exploite\n",
    "        restaurant = np.argmax(mean_restaurants)\n",
    "        exploite_count += 1\n",
    "        \n",
    "    reward = np.random.choice(restaurants[restaurant], 1)[0]\n",
    "    total_rewards += reward\n",
    "    \n",
    "    # updating mean reward for the restaurant\n",
    "    updated_mean = ((mean_restaurants[restaurant] * visits_restaurants[restaurant]) + reward) / (visits_restaurants[restaurant] + 1)\n",
    "    mean_restaurants[restaurant] = updated_mean\n",
    "    \n",
    "    visits_restaurants[restaurant] += 1\n",
    "\n",
    "\n",
    "print(explore_count, exploite_count)\n",
    "print(f\"Total Reward: {total_rewards:.2f}\")\n",
    "print(f\"Visited Restaurants: {visits_restaurants}\")"
   ]
  },
  {
   "cell_type": "code",
   "execution_count": null,
   "id": "86444758-0b6c-4711-b5d5-9c7818877207",
   "metadata": {},
   "outputs": [],
   "source": []
  },
  {
   "cell_type": "code",
   "execution_count": null,
   "id": "87c10b60-ce4b-4124-ab1a-e3b0e5f9cf44",
   "metadata": {},
   "outputs": [],
   "source": []
  },
  {
   "cell_type": "code",
   "execution_count": null,
   "id": "29ea6c47-4739-4f2e-9e14-cf29ea927d9f",
   "metadata": {},
   "outputs": [],
   "source": []
  },
  {
   "cell_type": "code",
   "execution_count": null,
   "id": "78285cdf-55d0-4c40-9ef7-9ab94152d116",
   "metadata": {},
   "outputs": [],
   "source": []
  }
 ],
 "metadata": {
  "kernelspec": {
   "display_name": "Python 3",
   "language": "python",
   "name": "python3"
  },
  "language_info": {
   "codemirror_mode": {
    "name": "ipython",
    "version": 3
   },
   "file_extension": ".py",
   "mimetype": "text/x-python",
   "name": "python",
   "nbconvert_exporter": "python",
   "pygments_lexer": "ipython3",
   "version": "3.9.18"
  }
 },
 "nbformat": 4,
 "nbformat_minor": 5
}
