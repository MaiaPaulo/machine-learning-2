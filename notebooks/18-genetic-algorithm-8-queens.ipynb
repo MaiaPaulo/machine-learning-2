{
 "cells": [
  {
   "cell_type": "markdown",
   "id": "dda77a90-f80b-4b8a-987d-b0edebd622d3",
   "metadata": {},
   "source": [
    "# Genetic Algorithm (GA)\n",
    "\n",
    "## 8 Queens Problem"
   ]
  },
  {
   "cell_type": "code",
   "execution_count": 1,
   "id": "5413caa8-2c2b-4555-86e4-6f61b09f8163",
   "metadata": {},
   "outputs": [],
   "source": [
    "import random"
   ]
  },
  {
   "cell_type": "code",
   "execution_count": 2,
   "id": "ee24475a-5099-417e-a9f2-e7dd3f5cfe67",
   "metadata": {},
   "outputs": [
    {
     "name": "stdout",
     "output_type": "stream",
     "text": [
      "Q1 Q2\n",
      "Q1 Q3\n",
      "Q1 Q4\n",
      "Q1 Q5\n",
      "Q1 Q6\n",
      "Q1 Q7\n",
      "Q1 Q8\n",
      "Q2 Q3\n",
      "Q2 Q4\n",
      "Q2 Q5\n",
      "Q2 Q6\n",
      "Q2 Q7\n",
      "Q2 Q8\n",
      "Q3 Q4\n",
      "Q3 Q5\n",
      "Q3 Q6\n",
      "Q3 Q7\n",
      "Q3 Q8\n",
      "Q4 Q5\n",
      "Q4 Q6\n",
      "Q4 Q7\n",
      "Q4 Q8\n",
      "Q5 Q6\n",
      "Q5 Q7\n",
      "Q5 Q8\n",
      "Q6 Q7\n",
      "Q6 Q8\n",
      "Q7 Q8\n"
     ]
    }
   ],
   "source": [
    "queens = [\"Q1\", \"Q2\", \"Q3\", \"Q4\", \"Q5\", \"Q6\", \"Q7\", \"Q8\"]\n",
    "\n",
    "for i in range(len(queens) - 1):\n",
    "    for j in range (i + 1, len(queens)):\n",
    "        print(queens[i], queens[j])\n"
   ]
  },
  {
   "cell_type": "code",
   "execution_count": 3,
   "id": "9ee14b64-fcb0-4c0f-8ad1-0e285f8200d6",
   "metadata": {},
   "outputs": [
    {
     "name": "stdout",
     "output_type": "stream",
     "text": [
      "  A B C D E F G H\n",
      "1 □ □ □ □ □ □ □ □ \n",
      "2 □ □ □ □ □ □ □ □ \n",
      "3 □ □ □ □ □ □ □ □ \n",
      "4 □ □ □ □ □ □ □ □ \n",
      "5 □ □ □ □ □ □ □ □ \n",
      "6 □ □ □ □ □ □ □ □ \n",
      "7 □ □ □ □ □ □ □ □ \n",
      "8 □ □ □ □ □ □ □ □ \n"
     ]
    }
   ],
   "source": [
    "def prepare_chessboard():\n",
    "    chessboard = [[\"□\" for x in range(8)] for y in range(8)]\n",
    "    return chessboard\n",
    "\n",
    "def display_chessboard(board):\n",
    "    print('  A B C D E F G H')\n",
    "    for x in range(len(board)):\n",
    "        print(x + 1, end=' ')\n",
    "        for y in range(len(board[x])):\n",
    "            print(board[x][y], end=' ')\n",
    "        print('')\n",
    "\n",
    "# Test display\n",
    "display_chessboard(prepare_chessboard())"
   ]
  },
  {
   "cell_type": "code",
   "execution_count": 4,
   "id": "f0c2f07a-2cb4-43d8-8a56-8cf1c11b27ac",
   "metadata": {},
   "outputs": [],
   "source": [
    "def fitness(queen):\n",
    "    attacks = 0\n",
    "    for i in range(len(queen) - 1):\n",
    "        for j in range(i + 1, len(queen)):\n",
    "            if queen[i] == queen[j]:\n",
    "                attacks += 1\n",
    "            if abs(queen[i] - queen[j]) == abs(i - j):\n",
    "                attacks += 1\n",
    "    return 28 - attacks"
   ]
  },
  {
   "cell_type": "code",
   "execution_count": 5,
   "id": "4da82041-8f7e-412a-b387-658e72ad8ae7",
   "metadata": {},
   "outputs": [],
   "source": [
    "def crossover(parent_1, parent_2):\n",
    "    child = []\n",
    "    for i in range(4):\n",
    "        child.append(parent_1[i])\n",
    "    for i in range(4, 8):\n",
    "        child.append(parent_2[i])\n",
    "    return child"
   ]
  },
  {
   "cell_type": "code",
   "execution_count": 6,
   "id": "8520b7e8-5865-4898-ae18-75f5b39dc750",
   "metadata": {},
   "outputs": [],
   "source": [
    "def mutate(child):\n",
    "    random_index = random.randint(0, 7)\n",
    "    random_gene = random.randint(0, 7)\n",
    "    child[random_index] = random_gene\n",
    "    return child"
   ]
  },
  {
   "cell_type": "code",
   "execution_count": 8,
   "id": "586abe09-3880-4ec9-8538-c26fd7c24cb3",
   "metadata": {
    "scrolled": true,
    "tags": []
   },
   "outputs": [
    {
     "name": "stdout",
     "output_type": "stream",
     "text": [
      "Solution: 1\n",
      "Solution: 2\n",
      "Solution: 3\n",
      "Solution: 4\n",
      "Solution: 5\n",
      "Solution: 6\n",
      "Solution: 7\n",
      "Solution: 8\n",
      "Solution: 9\n",
      "Solution: 9\n",
      "Solution: 10\n"
     ]
    }
   ],
   "source": [
    "solutions = []\n",
    "total_solutions = 10 # max: 92\n",
    "\n",
    "while len(solutions) < total_solutions:\n",
    "    father = []\n",
    "    mother = []\n",
    "\n",
    "    # initial state: random\n",
    "    for i in range(8):\n",
    "        father.append(random.randint(1, 8))\n",
    "        mother.append(random.randint(1, 8))\n",
    "\n",
    "    father_fitness = fitness(father)\n",
    "    mother_fitness = fitness(mother)\n",
    "\n",
    "    while father_fitness < 28 and mother_fitness < 28:\n",
    "        child_1 = crossover(father, mother)\n",
    "        child_2 = crossover(mother, father)\n",
    "        child_1 = mutate(child_1)\n",
    "        child_2 = mutate(child_2)\n",
    "\n",
    "        father = child_1\n",
    "        mother = child_2\n",
    "\n",
    "        father_fitness = fitness(father)\n",
    "        mother_fitness = fitness(mother)\n",
    "\n",
    "    if father_fitness == 28:\n",
    "        if father not in solutions:\n",
    "            solutions.append(father)\n",
    "    if mother_fitness == 28:\n",
    "        if mother not in solutions:\n",
    "            solutions.append(mother)\n",
    "            \n",
    "    print(f\"Solution: {len(solutions)}\")"
   ]
  },
  {
   "cell_type": "code",
   "execution_count": 9,
   "id": "9a072bbd-00e3-4754-b8ac-9dd61db69f3f",
   "metadata": {},
   "outputs": [
    {
     "data": {
      "text/plain": [
       "10"
      ]
     },
     "execution_count": 9,
     "metadata": {},
     "output_type": "execute_result"
    }
   ],
   "source": [
    "len(solutions)"
   ]
  },
  {
   "cell_type": "code",
   "execution_count": 10,
   "id": "b4ab568b-d5fa-4ae8-a2c8-4f7604e6c10c",
   "metadata": {},
   "outputs": [
    {
     "data": {
      "text/plain": [
       "[[4, 1, 7, 0, 3, 6, 2, 5],\n",
       " [3, 1, 6, 2, 5, 7, 4, 0],\n",
       " [6, 4, 2, 0, 5, 7, 1, 3],\n",
       " [2, 5, 7, 1, 3, 0, 6, 4],\n",
       " [3, 6, 2, 7, 1, 4, 0, 5],\n",
       " [3, 0, 4, 7, 5, 2, 6, 1],\n",
       " [4, 1, 3, 6, 2, 7, 5, 0],\n",
       " [5, 2, 0, 7, 4, 1, 3, 6],\n",
       " [4, 2, 0, 5, 7, 1, 3, 6],\n",
       " [0, 6, 3, 5, 7, 1, 4, 2]]"
      ]
     },
     "execution_count": 10,
     "metadata": {},
     "output_type": "execute_result"
    }
   ],
   "source": [
    "solutions"
   ]
  },
  {
   "cell_type": "code",
   "execution_count": 11,
   "id": "abf9eaa9-d643-4d83-b630-eab343cf611b",
   "metadata": {},
   "outputs": [
    {
     "name": "stdout",
     "output_type": "stream",
     "text": [
      "  A B C D E F G H\n",
      "1 □ □ □ □ ■ □ □ □ \n",
      "2 □ ■ □ □ □ □ □ □ \n",
      "3 □ □ □ □ □ □ □ ■ \n",
      "4 ■ □ □ □ □ □ □ □ \n",
      "5 □ □ □ ■ □ □ □ □ \n",
      "6 □ □ □ □ □ □ ■ □ \n",
      "7 □ □ ■ □ □ □ □ □ \n",
      "8 □ □ □ □ □ ■ □ □ \n",
      "\n",
      "  A B C D E F G H\n",
      "1 □ □ □ ■ □ □ □ □ \n",
      "2 □ ■ □ □ □ □ □ □ \n",
      "3 □ □ □ □ □ □ ■ □ \n",
      "4 □ □ ■ □ □ □ □ □ \n",
      "5 □ □ □ □ □ ■ □ □ \n",
      "6 □ □ □ □ □ □ □ ■ \n",
      "7 □ □ □ □ ■ □ □ □ \n",
      "8 ■ □ □ □ □ □ □ □ \n",
      "\n",
      "  A B C D E F G H\n",
      "1 □ □ □ □ □ □ ■ □ \n",
      "2 □ □ □ □ ■ □ □ □ \n",
      "3 □ □ ■ □ □ □ □ □ \n",
      "4 ■ □ □ □ □ □ □ □ \n",
      "5 □ □ □ □ □ ■ □ □ \n",
      "6 □ □ □ □ □ □ □ ■ \n",
      "7 □ ■ □ □ □ □ □ □ \n",
      "8 □ □ □ ■ □ □ □ □ \n",
      "\n",
      "  A B C D E F G H\n",
      "1 □ □ ■ □ □ □ □ □ \n",
      "2 □ □ □ □ □ ■ □ □ \n",
      "3 □ □ □ □ □ □ □ ■ \n",
      "4 □ ■ □ □ □ □ □ □ \n",
      "5 □ □ □ ■ □ □ □ □ \n",
      "6 ■ □ □ □ □ □ □ □ \n",
      "7 □ □ □ □ □ □ ■ □ \n",
      "8 □ □ □ □ ■ □ □ □ \n",
      "\n",
      "  A B C D E F G H\n",
      "1 □ □ □ ■ □ □ □ □ \n",
      "2 □ □ □ □ □ □ ■ □ \n",
      "3 □ □ ■ □ □ □ □ □ \n",
      "4 □ □ □ □ □ □ □ ■ \n",
      "5 □ ■ □ □ □ □ □ □ \n",
      "6 □ □ □ □ ■ □ □ □ \n",
      "7 ■ □ □ □ □ □ □ □ \n",
      "8 □ □ □ □ □ ■ □ □ \n",
      "\n",
      "  A B C D E F G H\n",
      "1 □ □ □ ■ □ □ □ □ \n",
      "2 ■ □ □ □ □ □ □ □ \n",
      "3 □ □ □ □ ■ □ □ □ \n",
      "4 □ □ □ □ □ □ □ ■ \n",
      "5 □ □ □ □ □ ■ □ □ \n",
      "6 □ □ ■ □ □ □ □ □ \n",
      "7 □ □ □ □ □ □ ■ □ \n",
      "8 □ ■ □ □ □ □ □ □ \n",
      "\n",
      "  A B C D E F G H\n",
      "1 □ □ □ □ ■ □ □ □ \n",
      "2 □ ■ □ □ □ □ □ □ \n",
      "3 □ □ □ ■ □ □ □ □ \n",
      "4 □ □ □ □ □ □ ■ □ \n",
      "5 □ □ ■ □ □ □ □ □ \n",
      "6 □ □ □ □ □ □ □ ■ \n",
      "7 □ □ □ □ □ ■ □ □ \n",
      "8 ■ □ □ □ □ □ □ □ \n",
      "\n",
      "  A B C D E F G H\n",
      "1 □ □ □ □ □ ■ □ □ \n",
      "2 □ □ ■ □ □ □ □ □ \n",
      "3 ■ □ □ □ □ □ □ □ \n",
      "4 □ □ □ □ □ □ □ ■ \n",
      "5 □ □ □ □ ■ □ □ □ \n",
      "6 □ ■ □ □ □ □ □ □ \n",
      "7 □ □ □ ■ □ □ □ □ \n",
      "8 □ □ □ □ □ □ ■ □ \n",
      "\n",
      "  A B C D E F G H\n",
      "1 □ □ □ □ ■ □ □ □ \n",
      "2 □ □ ■ □ □ □ □ □ \n",
      "3 ■ □ □ □ □ □ □ □ \n",
      "4 □ □ □ □ □ ■ □ □ \n",
      "5 □ □ □ □ □ □ □ ■ \n",
      "6 □ ■ □ □ □ □ □ □ \n",
      "7 □ □ □ ■ □ □ □ □ \n",
      "8 □ □ □ □ □ □ ■ □ \n",
      "\n",
      "  A B C D E F G H\n",
      "1 ■ □ □ □ □ □ □ □ \n",
      "2 □ □ □ □ □ □ ■ □ \n",
      "3 □ □ □ ■ □ □ □ □ \n",
      "4 □ □ □ □ □ ■ □ □ \n",
      "5 □ □ □ □ □ □ □ ■ \n",
      "6 □ ■ □ □ □ □ □ □ \n",
      "7 □ □ □ □ ■ □ □ □ \n",
      "8 □ □ ■ □ □ □ □ □ \n",
      "\n"
     ]
    }
   ],
   "source": [
    "for solution in solutions:\n",
    "    chessboard_solution = prepare_chessboard()\n",
    "    i = -1\n",
    "    for j in solution:\n",
    "        i += 1\n",
    "        chessboard_solution[i][j] = '■'\n",
    "\n",
    "    display_chessboard(chessboard_solution)\n",
    "    print(\"\")"
   ]
  },
  {
   "cell_type": "code",
   "execution_count": null,
   "id": "93dcd550-9e19-45d6-b5e0-02deec58ffae",
   "metadata": {},
   "outputs": [],
   "source": []
  }
 ],
 "metadata": {
  "kernelspec": {
   "display_name": "Python 3 (ipykernel)",
   "language": "python",
   "name": "python3"
  },
  "language_info": {
   "codemirror_mode": {
    "name": "ipython",
    "version": 3
   },
   "file_extension": ".py",
   "mimetype": "text/x-python",
   "name": "python",
   "nbconvert_exporter": "python",
   "pygments_lexer": "ipython3",
   "version": "3.8.16"
  }
 },
 "nbformat": 4,
 "nbformat_minor": 5
}
