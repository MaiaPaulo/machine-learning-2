{
 "cells": [
  {
   "cell_type": "markdown",
   "id": "b91373ca-d59a-4b91-84e6-640d84f79acf",
   "metadata": {},
   "source": [
    "# Content-Based Movie Recommendation"
   ]
  },
  {
   "cell_type": "markdown",
   "id": "ae862d91-90d1-409b-a2f9-d583cb6ce855",
   "metadata": {},
   "source": [
    "Dataset Source:\n",
    "\n",
    "https://www.kaggle.com/datasets/jrobischon/wikipedia-movie-plots/"
   ]
  },
  {
   "cell_type": "code",
   "execution_count": 67,
   "id": "2fb7e171-0fdb-4ddf-85ff-f27c9bb9a64a",
   "metadata": {},
   "outputs": [],
   "source": [
    "import pandas as pd\n",
    "import numpy as np\n",
    "\n",
    "from sklearn.feature_extraction.text import TfidfVectorizer"
   ]
  },
  {
   "cell_type": "code",
   "execution_count": 68,
   "id": "99b0a147-7e04-48de-936f-d3ab65199335",
   "metadata": {},
   "outputs": [],
   "source": [
    "pd.set_option('display.max_columns', None)\n",
    "pd.set_option('display.max_rows', None)"
   ]
  },
  {
   "cell_type": "code",
   "execution_count": 69,
   "id": "3ae41f0b-e3f8-498c-bd1c-b2f25df70207",
   "metadata": {},
   "outputs": [
    {
     "data": {
      "text/plain": [
       "(34886, 8)"
      ]
     },
     "execution_count": 69,
     "metadata": {},
     "output_type": "execute_result"
    }
   ],
   "source": [
    "df = pd.read_csv(\"../data/wiki_movie_plots_deduped.csv\")\n",
    "df.shape"
   ]
  },
  {
   "cell_type": "code",
   "execution_count": 70,
   "id": "9fa74f37-569c-4020-8618-2ca36f0ea638",
   "metadata": {},
   "outputs": [
    {
     "data": {
      "text/html": [
       "<div>\n",
       "<style scoped>\n",
       "    .dataframe tbody tr th:only-of-type {\n",
       "        vertical-align: middle;\n",
       "    }\n",
       "\n",
       "    .dataframe tbody tr th {\n",
       "        vertical-align: top;\n",
       "    }\n",
       "\n",
       "    .dataframe thead th {\n",
       "        text-align: right;\n",
       "    }\n",
       "</style>\n",
       "<table border=\"1\" class=\"dataframe\">\n",
       "  <thead>\n",
       "    <tr style=\"text-align: right;\">\n",
       "      <th></th>\n",
       "      <th>Release Year</th>\n",
       "      <th>Title</th>\n",
       "      <th>Origin/Ethnicity</th>\n",
       "      <th>Director</th>\n",
       "      <th>Cast</th>\n",
       "      <th>Genre</th>\n",
       "      <th>Wiki Page</th>\n",
       "      <th>Plot</th>\n",
       "    </tr>\n",
       "  </thead>\n",
       "  <tbody>\n",
       "    <tr>\n",
       "      <th>15335</th>\n",
       "      <td>2007</td>\n",
       "      <td>The Simpsons Movie</td>\n",
       "      <td>American</td>\n",
       "      <td>David Silverman</td>\n",
       "      <td>Dan Castellaneta, Julie Kavner, Nancy Cartwrig...</td>\n",
       "      <td>animation</td>\n",
       "      <td>https://en.wikipedia.org/wiki/The_Simpsons_Movie</td>\n",
       "      <td>While performing on Lake Springfield, the band...</td>\n",
       "    </tr>\n",
       "    <tr>\n",
       "      <th>8642</th>\n",
       "      <td>1971</td>\n",
       "      <td>Born to Win</td>\n",
       "      <td>American</td>\n",
       "      <td>Ivan Passer</td>\n",
       "      <td>George Segal, Paula Prentiss, Karen Black</td>\n",
       "      <td>unknown</td>\n",
       "      <td>https://en.wikipedia.org/wiki/Born_to_Win</td>\n",
       "      <td>The film follows Jay Jay (Segal), a former hai...</td>\n",
       "    </tr>\n",
       "    <tr>\n",
       "      <th>3422</th>\n",
       "      <td>1942</td>\n",
       "      <td>Ship Ahoy</td>\n",
       "      <td>American</td>\n",
       "      <td>Edward Buzzell</td>\n",
       "      <td>Eleanor Powell, Red Skelton</td>\n",
       "      <td>musical comedy</td>\n",
       "      <td>https://en.wikipedia.org/wiki/Ship_Ahoy</td>\n",
       "      <td>Tallulah Winters is a dancing star who is hire...</td>\n",
       "    </tr>\n",
       "    <tr>\n",
       "      <th>6957</th>\n",
       "      <td>1958</td>\n",
       "      <td>Another Time, Another Place</td>\n",
       "      <td>American</td>\n",
       "      <td>Lewis Allen</td>\n",
       "      <td>Lana Turner, Barry Sullivan, Sean Connery, Gly...</td>\n",
       "      <td>melodrama</td>\n",
       "      <td>https://en.wikipedia.org/wiki/Another_Time,_An...</td>\n",
       "      <td>An American reporter, Sara Scott (Turner) is w...</td>\n",
       "    </tr>\n",
       "    <tr>\n",
       "      <th>28058</th>\n",
       "      <td>2009</td>\n",
       "      <td>I. G.</td>\n",
       "      <td>Malayalam</td>\n",
       "      <td>B. Unnikrishnan</td>\n",
       "      <td>Suresh Gopi, Sai Kumar, Jagathy Sreekumar, Vij...</td>\n",
       "      <td>action, thriller</td>\n",
       "      <td>https://en.wikipedia.org/wiki/I._G.</td>\n",
       "      <td>IG is an action movie which Suresh Gopi dons t...</td>\n",
       "    </tr>\n",
       "  </tbody>\n",
       "</table>\n",
       "</div>"
      ],
      "text/plain": [
       "       Release Year                        Title Origin/Ethnicity  \\\n",
       "15335          2007           The Simpsons Movie         American   \n",
       "8642           1971                  Born to Win         American   \n",
       "3422           1942                    Ship Ahoy         American   \n",
       "6957           1958  Another Time, Another Place         American   \n",
       "28058          2009                        I. G.        Malayalam   \n",
       "\n",
       "              Director                                               Cast  \\\n",
       "15335  David Silverman  Dan Castellaneta, Julie Kavner, Nancy Cartwrig...   \n",
       "8642       Ivan Passer          George Segal, Paula Prentiss, Karen Black   \n",
       "3422    Edward Buzzell                        Eleanor Powell, Red Skelton   \n",
       "6957       Lewis Allen  Lana Turner, Barry Sullivan, Sean Connery, Gly...   \n",
       "28058  B. Unnikrishnan  Suresh Gopi, Sai Kumar, Jagathy Sreekumar, Vij...   \n",
       "\n",
       "                  Genre                                          Wiki Page  \\\n",
       "15335         animation   https://en.wikipedia.org/wiki/The_Simpsons_Movie   \n",
       "8642            unknown          https://en.wikipedia.org/wiki/Born_to_Win   \n",
       "3422     musical comedy            https://en.wikipedia.org/wiki/Ship_Ahoy   \n",
       "6957          melodrama  https://en.wikipedia.org/wiki/Another_Time,_An...   \n",
       "28058  action, thriller                https://en.wikipedia.org/wiki/I._G.   \n",
       "\n",
       "                                                    Plot  \n",
       "15335  While performing on Lake Springfield, the band...  \n",
       "8642   The film follows Jay Jay (Segal), a former hai...  \n",
       "3422   Tallulah Winters is a dancing star who is hire...  \n",
       "6957   An American reporter, Sara Scott (Turner) is w...  \n",
       "28058  IG is an action movie which Suresh Gopi dons t...  "
      ]
     },
     "execution_count": 70,
     "metadata": {},
     "output_type": "execute_result"
    }
   ],
   "source": [
    "df.sample(5)"
   ]
  },
  {
   "cell_type": "markdown",
   "id": "8734e382-9716-42c7-bc4b-5db5f3686602",
   "metadata": {},
   "source": [
    "## Converting to String"
   ]
  },
  {
   "cell_type": "code",
   "execution_count": 71,
   "id": "4926ee34-27f7-48d3-bc6d-c0bb1e64086e",
   "metadata": {},
   "outputs": [
    {
     "data": {
      "text/plain": [
       "Index(['Release Year', 'Title', 'Origin/Ethnicity', 'Director', 'Cast',\n",
       "       'Genre', 'Wiki Page', 'Plot'],\n",
       "      dtype='object')"
      ]
     },
     "execution_count": 71,
     "metadata": {},
     "output_type": "execute_result"
    }
   ],
   "source": [
    "df.columns"
   ]
  },
  {
   "cell_type": "code",
   "execution_count": 72,
   "id": "32eb3056-c353-4e45-a921-0e5d07966b28",
   "metadata": {},
   "outputs": [
    {
     "data": {
      "text/plain": [
       "Release Year        object\n",
       "Title               object\n",
       "Origin/Ethnicity    object\n",
       "Director            object\n",
       "Cast                object\n",
       "Genre               object\n",
       "Wiki Page           object\n",
       "Plot                object\n",
       "dtype: object"
      ]
     },
     "execution_count": 72,
     "metadata": {},
     "output_type": "execute_result"
    }
   ],
   "source": [
    "df = df.astype(str)\n",
    "df.dtypes"
   ]
  },
  {
   "cell_type": "markdown",
   "id": "c8df66a9-46c8-4a33-9775-b1d8d83636a8",
   "metadata": {
    "tags": []
   },
   "source": [
    "## Data Cleaning"
   ]
  },
  {
   "cell_type": "markdown",
   "id": "cab6c020-a144-4c1c-b2aa-404c9e7f7988",
   "metadata": {},
   "source": [
    "Action Items:\n",
    "\n",
    "* Lower-Case the whole data frame\n",
    "* Director: Removing 'Director:' and 'Cast:'\n",
    "* Director, Cast: Removing '\\r\\n', '/n' and '/r'\n",
    "\n",
    "* Genre: Replacing '/' with Space\n",
    "* Director, Cast, Genre: Removing 'Uknonwn' and 'Nan'\n",
    "\n",
    "* Director: Separating Directors and Actors names\n",
    "* Director, Cast: Checking if the names are separated with ' and '\n",
    "\n",
    "* Director, Cast: Merging the first names and last names together\n",
    "* Director, Cast: Adding the words of 'Director' and 'Actor' as prefix\n",
    "\n",
    "* Plot: Removing English Stopwords\n",
    "* Doc: Removing special characters"
   ]
  },
  {
   "cell_type": "code",
   "execution_count": 73,
   "id": "3690e769-0628-4299-8d78-906500e9d72b",
   "metadata": {},
   "outputs": [
    {
     "name": "stderr",
     "output_type": "stream",
     "text": [
      "<ipython-input-73-614eaff662ae>:1: FutureWarning: DataFrame.applymap has been deprecated. Use DataFrame.map instead.\n",
      "  df = df.applymap(lambda x: x.lower() if isinstance(x, str) else x)\n"
     ]
    }
   ],
   "source": [
    "df = df.applymap(lambda x: x.lower() if isinstance(x, str) else x)"
   ]
  },
  {
   "cell_type": "code",
   "execution_count": 74,
   "id": "899ee1b5-efaa-446a-b0e8-e5cefcd501e9",
   "metadata": {},
   "outputs": [],
   "source": [
    "df[\"Director\"] = df[\"Director\"].str.replace(\"director:\", \"\", regex=False)\n",
    "df[\"Director\"] = df[\"Director\"].str.replace(\"cast:\", \"\", regex=False)\n",
    "df[\"Director\"] = df[\"Director\"].str.replace(\"\\r\\n\", \" \", regex=False)\n",
    "df[\"Cast\"] = df[\"Cast\"].str.replace(\"\\r\\n\", \" \", regex=False)\n",
    "df[\"Genre\"] = df[\"Genre\"].str.replace(\"/\", \" \", regex=False)\n",
    "\n",
    "df[\"Director\"] = df[\"Director\"].str.replace(\"unknown\", \"\", regex=False)\n",
    "df[\"Cast\"] = df[\"Cast\"].str.replace(\"unknown\", \"\", regex=False)\n",
    "df[\"Genre\"] = df[\"Genre\"].str.replace(\"unknown\", \"\", regex=False)\n",
    "\n",
    "df[\"Director\"] = df[\"Director\"].str.replace(\"nan\", \"\", regex=False)\n",
    "df[\"Cast\"] = df[\"Cast\"].str.replace(\"nan\", \"\", regex=False)\n",
    "df[\"Genre\"] = df[\"Genre\"].str.replace(\"nan\", \"\", regex=False)\n",
    "\n",
    "\n",
    "df[\"Director\"] = df[\"Director\"].str.replace(\" and \", \",\", regex=False)\n",
    "df[\"Cast\"] = df[\"Cast\"].str.replace(\" and \", \",\", regex=False)\n",
    "\n",
    "\n",
    "df[\"Director\"] = df[\"Director\"].str.replace(\" \", \"\", regex=False)\n",
    "df[\"Cast\"] = df[\"Cast\"].str.replace(\" \", \"\", regex=False)\n",
    "\n",
    "df[\"Director\"] = df[\"Director\"].str.replace(\",\", \" \", regex=False)\n",
    "df[\"Cast\"] = df[\"Cast\"].str.replace(\",\", \" \", regex=False)\n"
   ]
  },
  {
   "cell_type": "code",
   "execution_count": 75,
   "id": "cf3f2e8d-6090-4b46-8327-29ec746f2356",
   "metadata": {},
   "outputs": [],
   "source": [
    "df[\"Director\"] = np.where(df[\"Director\"].str.len() > 0,\n",
    "                          'director' + df[\"Director\"],\n",
    "                          df[\"Director\"])\n",
    "\n",
    "df[\"Cast\"] = np.where(df[\"Cast\"].str.len() > 0,\n",
    "                      'actor' + df[\"Cast\"],\n",
    "                      df[\"Cast\"])\n",
    "\n",
    "df[\"Director\"] = df[\"Director\"].str.replace(\" \", \" director\", regex=False)\n",
    "df[\"Cast\"] = df[\"Cast\"].str.replace(\" \", \" actor\", regex=False)\n"
   ]
  },
  {
   "cell_type": "code",
   "execution_count": 80,
   "id": "4648aae3-5778-4c50-9882-6acfe1c0f892",
   "metadata": {},
   "outputs": [
    {
     "data": {
      "text/html": [
       "<div>\n",
       "<style scoped>\n",
       "    .dataframe tbody tr th:only-of-type {\n",
       "        vertical-align: middle;\n",
       "    }\n",
       "\n",
       "    .dataframe tbody tr th {\n",
       "        vertical-align: top;\n",
       "    }\n",
       "\n",
       "    .dataframe thead th {\n",
       "        text-align: right;\n",
       "    }\n",
       "</style>\n",
       "<table border=\"1\" class=\"dataframe\">\n",
       "  <thead>\n",
       "    <tr style=\"text-align: right;\">\n",
       "      <th></th>\n",
       "      <th>Release Year</th>\n",
       "      <th>Title</th>\n",
       "      <th>Origin/Ethnicity</th>\n",
       "      <th>Director</th>\n",
       "      <th>Cast</th>\n",
       "      <th>Genre</th>\n",
       "      <th>Wiki Page</th>\n",
       "      <th>Plot</th>\n",
       "    </tr>\n",
       "  </thead>\n",
       "  <tbody>\n",
       "    <tr>\n",
       "      <th>1359</th>\n",
       "      <td>1932</td>\n",
       "      <td>mr. robinson crusoe</td>\n",
       "      <td>american</td>\n",
       "      <td>directora.edwardsutherland</td>\n",
       "      <td>actordouglasfairbanks actorwilliamfarnum</td>\n",
       "      <td>adventure</td>\n",
       "      <td>https://en.wikipedia.org/wiki/mr._robinson_crusoe</td>\n",
       "      <td>the film opens with a title card that reads \"f...</td>\n",
       "    </tr>\n",
       "    <tr>\n",
       "      <th>15166</th>\n",
       "      <td>2007</td>\n",
       "      <td>the brothers solomon</td>\n",
       "      <td>american</td>\n",
       "      <td>directorbobodenkirk</td>\n",
       "      <td>actorwillarnett actorwillforte actorchimcbride...</td>\n",
       "      <td>comedy</td>\n",
       "      <td>https://en.wikipedia.org/wiki/the_brothers_sol...</td>\n",
       "      <td>john and dean are two sheltered happy-go-lucky...</td>\n",
       "    </tr>\n",
       "    <tr>\n",
       "      <th>1273</th>\n",
       "      <td>1932</td>\n",
       "      <td>but the flesh is weak</td>\n",
       "      <td>american</td>\n",
       "      <td>directorjackconway</td>\n",
       "      <td>actorrobertmontgomery actornoragregor actorhea...</td>\n",
       "      <td>comedy</td>\n",
       "      <td>https://en.wikipedia.org/wiki/but_the_flesh_is...</td>\n",
       "      <td>max clement and his father florian, short of m...</td>\n",
       "    </tr>\n",
       "    <tr>\n",
       "      <th>15334</th>\n",
       "      <td>2007</td>\n",
       "      <td>shrek the third</td>\n",
       "      <td>american</td>\n",
       "      <td>directorchrismiller directorramanhui</td>\n",
       "      <td>actormikemyers actoreddiemurphy actorcamerondiaz</td>\n",
       "      <td>animation</td>\n",
       "      <td>https://en.wikipedia.org/wiki/shrek_the_third</td>\n",
       "      <td>prince charming vows that he will become king ...</td>\n",
       "    </tr>\n",
       "    <tr>\n",
       "      <th>1918</th>\n",
       "      <td>1935</td>\n",
       "      <td>the last outpost</td>\n",
       "      <td>american</td>\n",
       "      <td>directorcharlesbarton directorlouisj.gasnier</td>\n",
       "      <td>actorcarygrant actorclauderains actorkathleenb...</td>\n",
       "      <td>drama, war</td>\n",
       "      <td>https://en.wikipedia.org/wiki/the_last_outpost...</td>\n",
       "      <td>in kurdistan during world war i, michael andre...</td>\n",
       "    </tr>\n",
       "  </tbody>\n",
       "</table>\n",
       "</div>"
      ],
      "text/plain": [
       "      Release Year                  Title Origin/Ethnicity  \\\n",
       "1359          1932    mr. robinson crusoe         american   \n",
       "15166         2007   the brothers solomon         american   \n",
       "1273          1932  but the flesh is weak         american   \n",
       "15334         2007        shrek the third         american   \n",
       "1918          1935       the last outpost         american   \n",
       "\n",
       "                                           Director  \\\n",
       "1359                     directora.edwardsutherland   \n",
       "15166                           directorbobodenkirk   \n",
       "1273                             directorjackconway   \n",
       "15334          directorchrismiller directorramanhui   \n",
       "1918   directorcharlesbarton directorlouisj.gasnier   \n",
       "\n",
       "                                                    Cast       Genre  \\\n",
       "1359            actordouglasfairbanks actorwilliamfarnum   adventure   \n",
       "15166  actorwillarnett actorwillforte actorchimcbride...      comedy   \n",
       "1273   actorrobertmontgomery actornoragregor actorhea...      comedy   \n",
       "15334   actormikemyers actoreddiemurphy actorcamerondiaz   animation   \n",
       "1918   actorcarygrant actorclauderains actorkathleenb...  drama, war   \n",
       "\n",
       "                                               Wiki Page  \\\n",
       "1359   https://en.wikipedia.org/wiki/mr._robinson_crusoe   \n",
       "15166  https://en.wikipedia.org/wiki/the_brothers_sol...   \n",
       "1273   https://en.wikipedia.org/wiki/but_the_flesh_is...   \n",
       "15334      https://en.wikipedia.org/wiki/shrek_the_third   \n",
       "1918   https://en.wikipedia.org/wiki/the_last_outpost...   \n",
       "\n",
       "                                                    Plot  \n",
       "1359   the film opens with a title card that reads \"f...  \n",
       "15166  john and dean are two sheltered happy-go-lucky...  \n",
       "1273   max clement and his father florian, short of m...  \n",
       "15334  prince charming vows that he will become king ...  \n",
       "1918   in kurdistan during world war i, michael andre...  "
      ]
     },
     "execution_count": 80,
     "metadata": {},
     "output_type": "execute_result"
    }
   ],
   "source": [
    "df.sample(5)"
   ]
  },
  {
   "cell_type": "markdown",
   "id": "9977c0c2-09e5-4395-9da1-bc153293c3ed",
   "metadata": {},
   "source": [
    "## Merging the document"
   ]
  },
  {
   "cell_type": "code",
   "execution_count": null,
   "id": "c8a04dca-f545-4032-b364-872a29394eb7",
   "metadata": {},
   "outputs": [],
   "source": [
    "df[\"doc\"] = df[['Release Year', 'Title', 'Origin/Ethnicity',\n",
    "                'Director', 'Cast', 'Genre', 'Plot']].agg(' '.join, axis=1)\n",
    "df.sample(5)"
   ]
  },
  {
   "cell_type": "markdown",
   "id": "cac11761-8447-4a24-9e3d-d673ef19f2c8",
   "metadata": {},
   "source": [
    "## TF-IDF"
   ]
  },
  {
   "cell_type": "code",
   "execution_count": 33,
   "id": "6656257b-8df7-4508-9ae7-0e7becbca30f",
   "metadata": {},
   "outputs": [
    {
     "data": {
      "text/plain": [
       "(34886, 148454)"
      ]
     },
     "execution_count": 33,
     "metadata": {},
     "output_type": "execute_result"
    }
   ],
   "source": [
    "vectorizer = TfidfVectorizer()\n",
    "X = vectorizer.fit_transform(df[\"doc\"])\n",
    "column_names = vectorizer.get_feature_names_out()\n",
    "\n",
    "df_tf_idf = pd.DataFrame(X.toarray(), columns=column_names)\n",
    "df_tf_idf.shape"
   ]
  },
  {
   "cell_type": "markdown",
   "id": "9d1eb5ca-a539-42a5-bbcd-4ab0df69de5b",
   "metadata": {},
   "source": [
    "## Cosine Similarity"
   ]
  },
  {
   "cell_type": "code",
   "execution_count": null,
   "id": "8a545449-8f59-4522-9d94-7b0a3210efd7",
   "metadata": {},
   "outputs": [],
   "source": []
  }
 ],
 "metadata": {
  "kernelspec": {
   "display_name": "Python 3",
   "language": "python",
   "name": "python3"
  },
  "language_info": {
   "codemirror_mode": {
    "name": "ipython",
    "version": 3
   },
   "file_extension": ".py",
   "mimetype": "text/x-python",
   "name": "python",
   "nbconvert_exporter": "python",
   "pygments_lexer": "ipython3",
   "version": "3.9.18"
  }
 },
 "nbformat": 4,
 "nbformat_minor": 5
}
