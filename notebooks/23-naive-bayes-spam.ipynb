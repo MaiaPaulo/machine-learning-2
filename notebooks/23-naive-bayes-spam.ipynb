{
 "cells": [
  {
   "cell_type": "markdown",
   "id": "b9f9beea-88b0-4c7a-99a3-16c9005e9689",
   "metadata": {},
   "source": [
    "# Naive Bayes - SMS SPAM Detection"
   ]
  },
  {
   "cell_type": "code",
   "execution_count": 1,
   "id": "c6bdfcd8-3f19-440c-8338-d89db749fd0f",
   "metadata": {},
   "outputs": [],
   "source": [
    "import pandas as pd"
   ]
  },
  {
   "cell_type": "markdown",
   "id": "83b1c6f8-3a78-448a-a989-10c541c4f001",
   "metadata": {},
   "source": [
    "## Loading Dataset"
   ]
  },
  {
   "cell_type": "code",
   "execution_count": 2,
   "id": "96c067b9-42a3-4d69-ba23-aad0b30a8b13",
   "metadata": {},
   "outputs": [
    {
     "data": {
      "text/html": [
       "<div>\n",
       "<style scoped>\n",
       "    .dataframe tbody tr th:only-of-type {\n",
       "        vertical-align: middle;\n",
       "    }\n",
       "\n",
       "    .dataframe tbody tr th {\n",
       "        vertical-align: top;\n",
       "    }\n",
       "\n",
       "    .dataframe thead th {\n",
       "        text-align: right;\n",
       "    }\n",
       "</style>\n",
       "<table border=\"1\" class=\"dataframe\">\n",
       "  <thead>\n",
       "    <tr style=\"text-align: right;\">\n",
       "      <th></th>\n",
       "      <th>y</th>\n",
       "      <th>sms</th>\n",
       "    </tr>\n",
       "  </thead>\n",
       "  <tbody>\n",
       "    <tr>\n",
       "      <th>0</th>\n",
       "      <td>ham</td>\n",
       "      <td>Go until jurong point, crazy.. Available only ...</td>\n",
       "    </tr>\n",
       "    <tr>\n",
       "      <th>1</th>\n",
       "      <td>ham</td>\n",
       "      <td>Ok lar... Joking wif u oni...</td>\n",
       "    </tr>\n",
       "    <tr>\n",
       "      <th>2</th>\n",
       "      <td>spam</td>\n",
       "      <td>Free entry in 2 a wkly comp to win FA Cup fina...</td>\n",
       "    </tr>\n",
       "    <tr>\n",
       "      <th>3</th>\n",
       "      <td>ham</td>\n",
       "      <td>U dun say so early hor... U c already then say...</td>\n",
       "    </tr>\n",
       "    <tr>\n",
       "      <th>4</th>\n",
       "      <td>ham</td>\n",
       "      <td>Nah I don't think he goes to usf, he lives aro...</td>\n",
       "    </tr>\n",
       "  </tbody>\n",
       "</table>\n",
       "</div>"
      ],
      "text/plain": [
       "      y                                                sms\n",
       "0   ham  Go until jurong point, crazy.. Available only ...\n",
       "1   ham                      Ok lar... Joking wif u oni...\n",
       "2  spam  Free entry in 2 a wkly comp to win FA Cup fina...\n",
       "3   ham  U dun say so early hor... U c already then say...\n",
       "4   ham  Nah I don't think he goes to usf, he lives aro..."
      ]
     },
     "execution_count": 2,
     "metadata": {},
     "output_type": "execute_result"
    }
   ],
   "source": [
    "# Source: https://archive.ics.uci.edu/dataset/228/sms+spam+collection\n",
    "\n",
    "df = pd.read_csv(\"../data/sms_spam_collection.csv\",\n",
    "                 delimiter = \"\\t\",\n",
    "                 header = None,\n",
    "                 names=[\"y\", \"sms\"])\n",
    "df.head()"
   ]
  },
  {
   "cell_type": "code",
   "execution_count": 3,
   "id": "d0c29b50-f4b9-4706-97e6-98eb8693dba6",
   "metadata": {},
   "outputs": [
    {
     "data": {
      "text/plain": [
       "(5572, 2)"
      ]
     },
     "execution_count": 3,
     "metadata": {},
     "output_type": "execute_result"
    }
   ],
   "source": [
    "df.shape"
   ]
  },
  {
   "cell_type": "markdown",
   "id": "4f6b583a-5638-48b1-bdce-5baaee5999eb",
   "metadata": {},
   "source": [
    "## Probability of Ham / Spam"
   ]
  },
  {
   "cell_type": "code",
   "execution_count": 4,
   "id": "caeb99a4-1dfd-4fe7-93a3-3d3322bdc6ee",
   "metadata": {},
   "outputs": [
    {
     "data": {
      "text/html": [
       "<div>\n",
       "<style scoped>\n",
       "    .dataframe tbody tr th:only-of-type {\n",
       "        vertical-align: middle;\n",
       "    }\n",
       "\n",
       "    .dataframe tbody tr th {\n",
       "        vertical-align: top;\n",
       "    }\n",
       "\n",
       "    .dataframe thead th {\n",
       "        text-align: right;\n",
       "    }\n",
       "</style>\n",
       "<table border=\"1\" class=\"dataframe\">\n",
       "  <thead>\n",
       "    <tr style=\"text-align: right;\">\n",
       "      <th></th>\n",
       "      <th>y</th>\n",
       "      <th>sms</th>\n",
       "    </tr>\n",
       "  </thead>\n",
       "  <tbody>\n",
       "    <tr>\n",
       "      <th>0</th>\n",
       "      <td>ham</td>\n",
       "      <td>4825</td>\n",
       "    </tr>\n",
       "    <tr>\n",
       "      <th>1</th>\n",
       "      <td>spam</td>\n",
       "      <td>747</td>\n",
       "    </tr>\n",
       "  </tbody>\n",
       "</table>\n",
       "</div>"
      ],
      "text/plain": [
       "      y   sms\n",
       "0   ham  4825\n",
       "1  spam   747"
      ]
     },
     "execution_count": 4,
     "metadata": {},
     "output_type": "execute_result"
    }
   ],
   "source": [
    "df_general = df.groupby(['y']).count().reset_index()\n",
    "df_general"
   ]
  },
  {
   "cell_type": "code",
   "execution_count": 5,
   "id": "698e9825-1c4b-411d-90fe-d652d2bc3e69",
   "metadata": {},
   "outputs": [
    {
     "name": "stdout",
     "output_type": "stream",
     "text": [
      "0.13406317300789664 0.8659368269921034\n"
     ]
    }
   ],
   "source": [
    "p_spam = 747 / 5572\n",
    "p_ham = 4825 / 5572\n",
    "\n",
    "print(p_spam, p_ham)"
   ]
  },
  {
   "cell_type": "code",
   "execution_count": 6,
   "id": "ec0217ce-89f6-4838-a235-5b2a3cfee133",
   "metadata": {},
   "outputs": [],
   "source": [
    "total_spam = df_general.loc[df_general[\"y\"] == 'spam', 'sms'].values[0]\n",
    "total_ham = df_general.loc[df_general[\"y\"] == 'ham', 'sms'].values[0]"
   ]
  },
  {
   "cell_type": "code",
   "execution_count": 7,
   "id": "bd5d1aa8-b991-435b-9c14-10d07d92fbb6",
   "metadata": {},
   "outputs": [
    {
     "name": "stdout",
     "output_type": "stream",
     "text": [
      "0.13406317300789664 0.8659368269921034\n"
     ]
    }
   ],
   "source": [
    "p_spam = total_spam / df.shape[0]\n",
    "p_ham = total_ham / df.shape[0]\n",
    "\n",
    "print(p_spam, p_ham)"
   ]
  },
  {
   "cell_type": "markdown",
   "id": "ff067df8-191a-449e-bffd-5ea3f156e2d8",
   "metadata": {},
   "source": [
    "## Text Preparation"
   ]
  },
  {
   "cell_type": "markdown",
   "id": "dafbcaf8-ba42-497d-9ead-43146ec1ea02",
   "metadata": {},
   "source": [
    "### Converting to Lower Case"
   ]
  },
  {
   "cell_type": "code",
   "execution_count": 8,
   "id": "9bc62b41-0519-427d-88b0-22d2db993eb3",
   "metadata": {},
   "outputs": [
    {
     "name": "stderr",
     "output_type": "stream",
     "text": [
      "<ipython-input-8-578a949386c2>:1: FutureWarning: DataFrame.applymap has been deprecated. Use DataFrame.map instead.\n",
      "  df = df.applymap(lambda x: x.lower() if isinstance(x, str) else x)\n"
     ]
    },
    {
     "data": {
      "text/html": [
       "<div>\n",
       "<style scoped>\n",
       "    .dataframe tbody tr th:only-of-type {\n",
       "        vertical-align: middle;\n",
       "    }\n",
       "\n",
       "    .dataframe tbody tr th {\n",
       "        vertical-align: top;\n",
       "    }\n",
       "\n",
       "    .dataframe thead th {\n",
       "        text-align: right;\n",
       "    }\n",
       "</style>\n",
       "<table border=\"1\" class=\"dataframe\">\n",
       "  <thead>\n",
       "    <tr style=\"text-align: right;\">\n",
       "      <th></th>\n",
       "      <th>y</th>\n",
       "      <th>sms</th>\n",
       "    </tr>\n",
       "  </thead>\n",
       "  <tbody>\n",
       "    <tr>\n",
       "      <th>0</th>\n",
       "      <td>ham</td>\n",
       "      <td>go until jurong point, crazy.. available only ...</td>\n",
       "    </tr>\n",
       "    <tr>\n",
       "      <th>1</th>\n",
       "      <td>ham</td>\n",
       "      <td>ok lar... joking wif u oni...</td>\n",
       "    </tr>\n",
       "    <tr>\n",
       "      <th>2</th>\n",
       "      <td>spam</td>\n",
       "      <td>free entry in 2 a wkly comp to win fa cup fina...</td>\n",
       "    </tr>\n",
       "    <tr>\n",
       "      <th>3</th>\n",
       "      <td>ham</td>\n",
       "      <td>u dun say so early hor... u c already then say...</td>\n",
       "    </tr>\n",
       "    <tr>\n",
       "      <th>4</th>\n",
       "      <td>ham</td>\n",
       "      <td>nah i don't think he goes to usf, he lives aro...</td>\n",
       "    </tr>\n",
       "  </tbody>\n",
       "</table>\n",
       "</div>"
      ],
      "text/plain": [
       "      y                                                sms\n",
       "0   ham  go until jurong point, crazy.. available only ...\n",
       "1   ham                      ok lar... joking wif u oni...\n",
       "2  spam  free entry in 2 a wkly comp to win fa cup fina...\n",
       "3   ham  u dun say so early hor... u c already then say...\n",
       "4   ham  nah i don't think he goes to usf, he lives aro..."
      ]
     },
     "execution_count": 8,
     "metadata": {},
     "output_type": "execute_result"
    }
   ],
   "source": [
    "df = df.applymap(lambda x: x.lower() if isinstance(x, str) else x)\n",
    "df.head()"
   ]
  },
  {
   "cell_type": "markdown",
   "id": "7d056cc6-3f31-4e3a-b5d9-e4d4c81f0c70",
   "metadata": {},
   "source": [
    "### Removing Special Characters"
   ]
  },
  {
   "cell_type": "code",
   "execution_count": 9,
   "id": "0608993d-b426-4fc4-8787-c55ecd9c6d16",
   "metadata": {},
   "outputs": [
    {
     "data": {
      "text/html": [
       "<div>\n",
       "<style scoped>\n",
       "    .dataframe tbody tr th:only-of-type {\n",
       "        vertical-align: middle;\n",
       "    }\n",
       "\n",
       "    .dataframe tbody tr th {\n",
       "        vertical-align: top;\n",
       "    }\n",
       "\n",
       "    .dataframe thead th {\n",
       "        text-align: right;\n",
       "    }\n",
       "</style>\n",
       "<table border=\"1\" class=\"dataframe\">\n",
       "  <thead>\n",
       "    <tr style=\"text-align: right;\">\n",
       "      <th></th>\n",
       "      <th>y</th>\n",
       "      <th>sms</th>\n",
       "    </tr>\n",
       "  </thead>\n",
       "  <tbody>\n",
       "    <tr>\n",
       "      <th>1452</th>\n",
       "      <td>ham</td>\n",
       "      <td>ya when are  taking ure practical lessons i st...</td>\n",
       "    </tr>\n",
       "    <tr>\n",
       "      <th>4012</th>\n",
       "      <td>spam</td>\n",
       "      <td>please call our customer service representativ...</td>\n",
       "    </tr>\n",
       "    <tr>\n",
       "      <th>1551</th>\n",
       "      <td>ham</td>\n",
       "      <td>he says hi and to get your ass back to south t...</td>\n",
       "    </tr>\n",
       "    <tr>\n",
       "      <th>1603</th>\n",
       "      <td>ham</td>\n",
       "      <td>ok pa nothing problem</td>\n",
       "    </tr>\n",
       "    <tr>\n",
       "      <th>2354</th>\n",
       "      <td>spam</td>\n",
       "      <td>please call 08712402902 immediately as there i...</td>\n",
       "    </tr>\n",
       "    <tr>\n",
       "      <th>2542</th>\n",
       "      <td>ham</td>\n",
       "      <td>i dont can you send it to me plus hows mode</td>\n",
       "    </tr>\n",
       "    <tr>\n",
       "      <th>3500</th>\n",
       "      <td>ham</td>\n",
       "      <td>i hope you arnt pissed off but id would really...</td>\n",
       "    </tr>\n",
       "    <tr>\n",
       "      <th>2427</th>\n",
       "      <td>spam</td>\n",
       "      <td>valentines day special win over 1000 in our qu...</td>\n",
       "    </tr>\n",
       "    <tr>\n",
       "      <th>5454</th>\n",
       "      <td>ham</td>\n",
       "      <td>im just wondering what your doing right now</td>\n",
       "    </tr>\n",
       "    <tr>\n",
       "      <th>1983</th>\n",
       "      <td>ham</td>\n",
       "      <td>hey i will be late im at amk need to drink tea...</td>\n",
       "    </tr>\n",
       "  </tbody>\n",
       "</table>\n",
       "</div>"
      ],
      "text/plain": [
       "         y                                                sms\n",
       "1452   ham  ya when are  taking ure practical lessons i st...\n",
       "4012  spam  please call our customer service representativ...\n",
       "1551   ham  he says hi and to get your ass back to south t...\n",
       "1603   ham                              ok pa nothing problem\n",
       "2354  spam  please call 08712402902 immediately as there i...\n",
       "2542   ham        i dont can you send it to me plus hows mode\n",
       "3500   ham  i hope you arnt pissed off but id would really...\n",
       "2427  spam  valentines day special win over 1000 in our qu...\n",
       "5454   ham        im just wondering what your doing right now\n",
       "1983   ham  hey i will be late im at amk need to drink tea..."
      ]
     },
     "execution_count": 9,
     "metadata": {},
     "output_type": "execute_result"
    }
   ],
   "source": [
    "df[\"sms\"] = df[\"sms\"].str.replace(\"[^a-z 0-9]+\", \"\", regex=True)\n",
    "df.sample(10)"
   ]
  },
  {
   "cell_type": "markdown",
   "id": "8ae64796-996c-443b-ba1c-789b452347dd",
   "metadata": {},
   "source": [
    "### Tokenizing, Stemming, Lemmatizing, Removing Stopwords"
   ]
  },
  {
   "cell_type": "code",
   "execution_count": 10,
   "id": "b513e654-a45b-4933-a1b3-576a693b067e",
   "metadata": {},
   "outputs": [],
   "source": [
    "from nltk.tokenize import RegexpTokenizer\n",
    "from nltk.stem import WordNetLemmatizer,PorterStemmer\n",
    "from nltk.corpus import stopwords"
   ]
  },
  {
   "cell_type": "code",
   "execution_count": 11,
   "id": "b319f1dd-8470-4712-ab60-ea26b2026bad",
   "metadata": {},
   "outputs": [
    {
     "name": "stdout",
     "output_type": "stream",
     "text": [
      "['i', 'me', 'my', 'myself', 'we', 'our', 'ours', 'ourselves', 'you', \"you're\", \"you've\", \"you'll\", \"you'd\", 'your', 'yours', 'yourself', 'yourselves', 'he', 'him', 'his', 'himself', 'she', \"she's\", 'her', 'hers', 'herself', 'it', \"it's\", 'its', 'itself', 'they', 'them', 'their', 'theirs', 'themselves', 'what', 'which', 'who', 'whom', 'this', 'that', \"that'll\", 'these', 'those', 'am', 'is', 'are', 'was', 'were', 'be', 'been', 'being', 'have', 'has', 'had', 'having', 'do', 'does', 'did', 'doing', 'a', 'an', 'the', 'and', 'but', 'if', 'or', 'because', 'as', 'until', 'while', 'of', 'at', 'by', 'for', 'with', 'about', 'against', 'between', 'into', 'through', 'during', 'before', 'after', 'above', 'below', 'to', 'from', 'up', 'down', 'in', 'out', 'on', 'off', 'over', 'under', 'again', 'further', 'then', 'once', 'here', 'there', 'when', 'where', 'why', 'how', 'all', 'any', 'both', 'each', 'few', 'more', 'most', 'other', 'some', 'such', 'no', 'nor', 'not', 'only', 'own', 'same', 'so', 'than', 'too', 'very', 's', 't', 'can', 'will', 'just', 'don', \"don't\", 'should', \"should've\", 'now', 'd', 'll', 'm', 'o', 're', 've', 'y', 'ain', 'aren', \"aren't\", 'couldn', \"couldn't\", 'didn', \"didn't\", 'doesn', \"doesn't\", 'hadn', \"hadn't\", 'hasn', \"hasn't\", 'haven', \"haven't\", 'isn', \"isn't\", 'ma', 'mightn', \"mightn't\", 'mustn', \"mustn't\", 'needn', \"needn't\", 'shan', \"shan't\", 'shouldn', \"shouldn't\", 'wasn', \"wasn't\", 'weren', \"weren't\", 'won', \"won't\", 'wouldn', \"wouldn't\"]\n"
     ]
    }
   ],
   "source": [
    "stops = stopwords.words('english')\n",
    "print(stops)"
   ]
  },
  {
   "cell_type": "code",
   "execution_count": 12,
   "id": "64d0b25f-7532-4ed6-a929-d3847f26648d",
   "metadata": {},
   "outputs": [],
   "source": [
    "lemmatizer = WordNetLemmatizer()\n",
    "stemmer = PorterStemmer()\n",
    "\n",
    "def preprocess(sentence):\n",
    "    tokenizer = RegexpTokenizer(r'\\w+')\n",
    "    tokens = tokenizer.tokenize(sentence)\n",
    "    \n",
    "    filtered_words = [w for w in tokens if len(w) > 2 if not w in stopwords.words('english')]\n",
    "    stem_words=[stemmer.stem(w) for w in filtered_words]\n",
    "    lemma_words=[lemmatizer.lemmatize(w) for w in stem_words]\n",
    "    return \" \".join(lemma_words)\n",
    "\n",
    "df['sms'] = df['sms'].map(lambda s:preprocess(s)) "
   ]
  },
  {
   "cell_type": "code",
   "execution_count": 13,
   "id": "85438224-a698-4c23-b7d8-b616c95abcdd",
   "metadata": {},
   "outputs": [
    {
     "data": {
      "text/html": [
       "<div>\n",
       "<style scoped>\n",
       "    .dataframe tbody tr th:only-of-type {\n",
       "        vertical-align: middle;\n",
       "    }\n",
       "\n",
       "    .dataframe tbody tr th {\n",
       "        vertical-align: top;\n",
       "    }\n",
       "\n",
       "    .dataframe thead th {\n",
       "        text-align: right;\n",
       "    }\n",
       "</style>\n",
       "<table border=\"1\" class=\"dataframe\">\n",
       "  <thead>\n",
       "    <tr style=\"text-align: right;\">\n",
       "      <th></th>\n",
       "      <th>y</th>\n",
       "      <th>sms</th>\n",
       "    </tr>\n",
       "  </thead>\n",
       "  <tbody>\n",
       "    <tr>\n",
       "      <th>1023</th>\n",
       "      <td>ham</td>\n",
       "      <td>still tonight</td>\n",
       "    </tr>\n",
       "    <tr>\n",
       "      <th>246</th>\n",
       "      <td>ham</td>\n",
       "      <td>late said websit didnt dont slipper</td>\n",
       "    </tr>\n",
       "    <tr>\n",
       "      <th>2562</th>\n",
       "      <td>ham</td>\n",
       "      <td>mayb pressi</td>\n",
       "    </tr>\n",
       "    <tr>\n",
       "      <th>3568</th>\n",
       "      <td>spam</td>\n",
       "      <td>collect valentin weekend pari inc flight hotel...</td>\n",
       "    </tr>\n",
       "    <tr>\n",
       "      <th>2775</th>\n",
       "      <td>ham</td>\n",
       "      <td>dude knw also telugutht gudk gud nyt</td>\n",
       "    </tr>\n",
       "    <tr>\n",
       "      <th>607</th>\n",
       "      <td>spam</td>\n",
       "      <td>xclusiveclubsaisai 2morow 285 soire special zo...</td>\n",
       "    </tr>\n",
       "    <tr>\n",
       "      <th>3621</th>\n",
       "      <td>ham</td>\n",
       "      <td>meant apolog text get drug ltgt night</td>\n",
       "    </tr>\n",
       "    <tr>\n",
       "      <th>595</th>\n",
       "      <td>ham</td>\n",
       "      <td>met stranger choos friend long world stand fri...</td>\n",
       "    </tr>\n",
       "    <tr>\n",
       "      <th>4082</th>\n",
       "      <td>ham</td>\n",
       "      <td>hurri home soup done</td>\n",
       "    </tr>\n",
       "    <tr>\n",
       "      <th>1293</th>\n",
       "      <td>ham</td>\n",
       "      <td>birthdat certif april real date today dont pub...</td>\n",
       "    </tr>\n",
       "  </tbody>\n",
       "</table>\n",
       "</div>"
      ],
      "text/plain": [
       "         y                                                sms\n",
       "1023   ham                                      still tonight\n",
       "246    ham                late said websit didnt dont slipper\n",
       "2562   ham                                        mayb pressi\n",
       "3568  spam  collect valentin weekend pari inc flight hotel...\n",
       "2775   ham               dude knw also telugutht gudk gud nyt\n",
       "607   spam  xclusiveclubsaisai 2morow 285 soire special zo...\n",
       "3621   ham              meant apolog text get drug ltgt night\n",
       "595    ham  met stranger choos friend long world stand fri...\n",
       "4082   ham                               hurri home soup done\n",
       "1293   ham  birthdat certif april real date today dont pub..."
      ]
     },
     "execution_count": 13,
     "metadata": {},
     "output_type": "execute_result"
    }
   ],
   "source": [
    "df.sample(10)"
   ]
  },
  {
   "cell_type": "markdown",
   "id": "0fab0e91-8d90-4090-ac69-19f94e5f97a6",
   "metadata": {},
   "source": [
    "## Retrieving Unique Words"
   ]
  },
  {
   "cell_type": "code",
   "execution_count": 14,
   "id": "616f43ca-16bd-4c0d-aa69-b2fc8ab5ab3f",
   "metadata": {},
   "outputs": [
    {
     "data": {
      "text/plain": [
       "array(['jurong', 'point', 'crazi', ..., 'now1', 'piti', 'soani'],\n",
       "      dtype=object)"
      ]
     },
     "execution_count": 14,
     "metadata": {},
     "output_type": "execute_result"
    }
   ],
   "source": [
    "words = df['sms'].str.split().explode().drop_duplicates().values\n",
    "words"
   ]
  },
  {
   "cell_type": "code",
   "execution_count": 15,
   "id": "c088fb9a-a970-4787-9698-ddb97bb8fa8d",
   "metadata": {},
   "outputs": [
    {
     "data": {
      "text/plain": [
       "7853"
      ]
     },
     "execution_count": 15,
     "metadata": {},
     "output_type": "execute_result"
    }
   ],
   "source": [
    "len(words)"
   ]
  },
  {
   "cell_type": "markdown",
   "id": "f7ca76ca-c9e3-4407-b422-3148beb1b9b5",
   "metadata": {},
   "source": [
    "### Counting Words"
   ]
  },
  {
   "cell_type": "code",
   "execution_count": 16,
   "id": "02a24d07-4e44-4c43-84a9-2cc6887baf53",
   "metadata": {},
   "outputs": [
    {
     "data": {
      "text/html": [
       "<div>\n",
       "<style scoped>\n",
       "    .dataframe tbody tr th:only-of-type {\n",
       "        vertical-align: middle;\n",
       "    }\n",
       "\n",
       "    .dataframe tbody tr th {\n",
       "        vertical-align: top;\n",
       "    }\n",
       "\n",
       "    .dataframe thead th {\n",
       "        text-align: right;\n",
       "    }\n",
       "</style>\n",
       "<table border=\"1\" class=\"dataframe\">\n",
       "  <thead>\n",
       "    <tr style=\"text-align: right;\">\n",
       "      <th></th>\n",
       "      <th>sms</th>\n",
       "      <th>y</th>\n",
       "      <th>0</th>\n",
       "    </tr>\n",
       "  </thead>\n",
       "  <tbody>\n",
       "    <tr>\n",
       "      <th>0</th>\n",
       "      <td>008704050406</td>\n",
       "      <td>spam</td>\n",
       "      <td>2</td>\n",
       "    </tr>\n",
       "    <tr>\n",
       "      <th>1</th>\n",
       "      <td>0089mi</td>\n",
       "      <td>spam</td>\n",
       "      <td>1</td>\n",
       "    </tr>\n",
       "    <tr>\n",
       "      <th>2</th>\n",
       "      <td>0121</td>\n",
       "      <td>spam</td>\n",
       "      <td>1</td>\n",
       "    </tr>\n",
       "    <tr>\n",
       "      <th>3</th>\n",
       "      <td>01223585236</td>\n",
       "      <td>spam</td>\n",
       "      <td>1</td>\n",
       "    </tr>\n",
       "    <tr>\n",
       "      <th>4</th>\n",
       "      <td>01223585334</td>\n",
       "      <td>spam</td>\n",
       "      <td>2</td>\n",
       "    </tr>\n",
       "    <tr>\n",
       "      <th>...</th>\n",
       "      <td>...</td>\n",
       "      <td>...</td>\n",
       "      <td>...</td>\n",
       "    </tr>\n",
       "    <tr>\n",
       "      <th>8665</th>\n",
       "      <td>zoe</td>\n",
       "      <td>spam</td>\n",
       "      <td>1</td>\n",
       "    </tr>\n",
       "    <tr>\n",
       "      <th>8666</th>\n",
       "      <td>zogtoriu</td>\n",
       "      <td>ham</td>\n",
       "      <td>1</td>\n",
       "    </tr>\n",
       "    <tr>\n",
       "      <th>8667</th>\n",
       "      <td>zoom</td>\n",
       "      <td>ham</td>\n",
       "      <td>1</td>\n",
       "    </tr>\n",
       "    <tr>\n",
       "      <th>8668</th>\n",
       "      <td>zouk</td>\n",
       "      <td>spam</td>\n",
       "      <td>1</td>\n",
       "    </tr>\n",
       "    <tr>\n",
       "      <th>8669</th>\n",
       "      <td>zyada</td>\n",
       "      <td>ham</td>\n",
       "      <td>1</td>\n",
       "    </tr>\n",
       "  </tbody>\n",
       "</table>\n",
       "<p>8670 rows × 3 columns</p>\n",
       "</div>"
      ],
      "text/plain": [
       "               sms     y  0\n",
       "0     008704050406  spam  2\n",
       "1           0089mi  spam  1\n",
       "2             0121  spam  1\n",
       "3      01223585236  spam  1\n",
       "4      01223585334  spam  2\n",
       "...            ...   ... ..\n",
       "8665           zoe  spam  1\n",
       "8666      zogtoriu   ham  1\n",
       "8667          zoom   ham  1\n",
       "8668          zouk  spam  1\n",
       "8669         zyada   ham  1\n",
       "\n",
       "[8670 rows x 3 columns]"
      ]
     },
     "execution_count": 16,
     "metadata": {},
     "output_type": "execute_result"
    }
   ],
   "source": [
    "df_count = df.set_index('y')['sms'].str.split().explode().reset_index().groupby(['sms', 'y']).size().to_frame()\n",
    "df_count = df_count.reset_index()\n",
    "df_count"
   ]
  },
  {
   "cell_type": "code",
   "execution_count": 17,
   "id": "2f25d77a-d2bb-4e4f-896d-a729970cddd1",
   "metadata": {},
   "outputs": [
    {
     "data": {
      "text/html": [
       "<div>\n",
       "<style scoped>\n",
       "    .dataframe tbody tr th:only-of-type {\n",
       "        vertical-align: middle;\n",
       "    }\n",
       "\n",
       "    .dataframe tbody tr th {\n",
       "        vertical-align: top;\n",
       "    }\n",
       "\n",
       "    .dataframe thead th {\n",
       "        text-align: right;\n",
       "    }\n",
       "</style>\n",
       "<table border=\"1\" class=\"dataframe\">\n",
       "  <thead>\n",
       "    <tr style=\"text-align: right;\">\n",
       "      <th></th>\n",
       "      <th>0</th>\n",
       "    </tr>\n",
       "  </thead>\n",
       "  <tbody>\n",
       "    <tr>\n",
       "      <th>count</th>\n",
       "      <td>8670.00000</td>\n",
       "    </tr>\n",
       "    <tr>\n",
       "      <th>mean</th>\n",
       "      <td>5.34579</td>\n",
       "    </tr>\n",
       "    <tr>\n",
       "      <th>std</th>\n",
       "      <td>16.90067</td>\n",
       "    </tr>\n",
       "    <tr>\n",
       "      <th>min</th>\n",
       "      <td>1.00000</td>\n",
       "    </tr>\n",
       "    <tr>\n",
       "      <th>25%</th>\n",
       "      <td>1.00000</td>\n",
       "    </tr>\n",
       "    <tr>\n",
       "      <th>50%</th>\n",
       "      <td>1.00000</td>\n",
       "    </tr>\n",
       "    <tr>\n",
       "      <th>75%</th>\n",
       "      <td>3.00000</td>\n",
       "    </tr>\n",
       "    <tr>\n",
       "      <th>max</th>\n",
       "      <td>366.00000</td>\n",
       "    </tr>\n",
       "  </tbody>\n",
       "</table>\n",
       "</div>"
      ],
      "text/plain": [
       "                0\n",
       "count  8670.00000\n",
       "mean      5.34579\n",
       "std      16.90067\n",
       "min       1.00000\n",
       "25%       1.00000\n",
       "50%       1.00000\n",
       "75%       3.00000\n",
       "max     366.00000"
      ]
     },
     "execution_count": 17,
     "metadata": {},
     "output_type": "execute_result"
    }
   ],
   "source": [
    "df_count.describe()"
   ]
  },
  {
   "cell_type": "code",
   "execution_count": 18,
   "id": "fa7d52b6-6ecb-4dc9-bd33-1d3c0dd74235",
   "metadata": {},
   "outputs": [
    {
     "data": {
      "text/html": [
       "<div>\n",
       "<style scoped>\n",
       "    .dataframe tbody tr th:only-of-type {\n",
       "        vertical-align: middle;\n",
       "    }\n",
       "\n",
       "    .dataframe tbody tr th {\n",
       "        vertical-align: top;\n",
       "    }\n",
       "\n",
       "    .dataframe thead th {\n",
       "        text-align: right;\n",
       "    }\n",
       "</style>\n",
       "<table border=\"1\" class=\"dataframe\">\n",
       "  <thead>\n",
       "    <tr style=\"text-align: right;\">\n",
       "      <th></th>\n",
       "      <th>sms</th>\n",
       "      <th>y</th>\n",
       "      <th>0</th>\n",
       "    </tr>\n",
       "  </thead>\n",
       "  <tbody>\n",
       "    <tr>\n",
       "      <th>1832</th>\n",
       "      <td>call</td>\n",
       "      <td>spam</td>\n",
       "      <td>366</td>\n",
       "    </tr>\n",
       "  </tbody>\n",
       "</table>\n",
       "</div>"
      ],
      "text/plain": [
       "       sms     y    0\n",
       "1832  call  spam  366"
      ]
     },
     "execution_count": 18,
     "metadata": {},
     "output_type": "execute_result"
    }
   ],
   "source": [
    "df_count[df_count[0] == 366]"
   ]
  },
  {
   "cell_type": "markdown",
   "id": "c9ec5f67-6464-4392-bd23-73760e9c8c65",
   "metadata": {},
   "source": [
    "### Calculating Probabilities"
   ]
  },
  {
   "cell_type": "code",
   "execution_count": 30,
   "id": "10c10d07-67ae-4061-afdf-d95eff56af86",
   "metadata": {},
   "outputs": [
    {
     "data": {
      "text/html": [
       "<div>\n",
       "<style scoped>\n",
       "    .dataframe tbody tr th:only-of-type {\n",
       "        vertical-align: middle;\n",
       "    }\n",
       "\n",
       "    .dataframe tbody tr th {\n",
       "        vertical-align: top;\n",
       "    }\n",
       "\n",
       "    .dataframe thead th {\n",
       "        text-align: right;\n",
       "    }\n",
       "</style>\n",
       "<table border=\"1\" class=\"dataframe\">\n",
       "  <thead>\n",
       "    <tr style=\"text-align: right;\">\n",
       "      <th></th>\n",
       "      <th>word</th>\n",
       "      <th>prob_ham</th>\n",
       "      <th>prob_spam</th>\n",
       "    </tr>\n",
       "  </thead>\n",
       "  <tbody>\n",
       "    <tr>\n",
       "      <th>5547</th>\n",
       "      <td>friendshipmotherfatherteacherschildren</td>\n",
       "      <td>0.000207</td>\n",
       "      <td>0.001339</td>\n",
       "    </tr>\n",
       "    <tr>\n",
       "      <th>4345</th>\n",
       "      <td>rupaul</td>\n",
       "      <td>0.000207</td>\n",
       "      <td>0.001339</td>\n",
       "    </tr>\n",
       "    <tr>\n",
       "      <th>1309</th>\n",
       "      <td>bristol</td>\n",
       "      <td>0.000415</td>\n",
       "      <td>0.001339</td>\n",
       "    </tr>\n",
       "    <tr>\n",
       "      <th>2980</th>\n",
       "      <td>c52</td>\n",
       "      <td>0.000207</td>\n",
       "      <td>0.002677</td>\n",
       "    </tr>\n",
       "    <tr>\n",
       "      <th>1723</th>\n",
       "      <td>machiani</td>\n",
       "      <td>0.000207</td>\n",
       "      <td>0.001339</td>\n",
       "    </tr>\n",
       "    <tr>\n",
       "      <th>1051</th>\n",
       "      <td>meant</td>\n",
       "      <td>0.002902</td>\n",
       "      <td>0.001339</td>\n",
       "    </tr>\n",
       "    <tr>\n",
       "      <th>6985</th>\n",
       "      <td>7cfca1a</td>\n",
       "      <td>0.000207</td>\n",
       "      <td>0.001339</td>\n",
       "    </tr>\n",
       "    <tr>\n",
       "      <th>5598</th>\n",
       "      <td>thinl</td>\n",
       "      <td>0.000207</td>\n",
       "      <td>0.001339</td>\n",
       "    </tr>\n",
       "    <tr>\n",
       "      <th>5827</th>\n",
       "      <td>vatian</td>\n",
       "      <td>0.000207</td>\n",
       "      <td>0.001339</td>\n",
       "    </tr>\n",
       "    <tr>\n",
       "      <th>2840</th>\n",
       "      <td>ireneer</td>\n",
       "      <td>0.000207</td>\n",
       "      <td>0.001339</td>\n",
       "    </tr>\n",
       "  </tbody>\n",
       "</table>\n",
       "</div>"
      ],
      "text/plain": [
       "                                        word  prob_ham  prob_spam\n",
       "5547  friendshipmotherfatherteacherschildren  0.000207   0.001339\n",
       "4345                                  rupaul  0.000207   0.001339\n",
       "1309                                 bristol  0.000415   0.001339\n",
       "2980                                     c52  0.000207   0.002677\n",
       "1723                                machiani  0.000207   0.001339\n",
       "1051                                   meant  0.002902   0.001339\n",
       "6985                                 7cfca1a  0.000207   0.001339\n",
       "5598                                   thinl  0.000207   0.001339\n",
       "5827                                  vatian  0.000207   0.001339\n",
       "2840                                 ireneer  0.000207   0.001339"
      ]
     },
     "execution_count": 30,
     "metadata": {},
     "output_type": "execute_result"
    }
   ],
   "source": [
    "columns=['word', 'prob_ham', 'prob_spam']\n",
    "df_p = pd.DataFrame(data=None, columns=columns)\n",
    "\n",
    "for word in words:\n",
    "    entry = []\n",
    "    df_word = df_count[df_count[\"sms\"] == word]\n",
    "    if df_word.shape[0] > 0:\n",
    "        count_word_spam = df_word.loc[df_word['y'] == 'spam', 0].values\n",
    "        count_word_ham = df_word.loc[df_word['y'] == 'ham', 0].values\n",
    "        \n",
    "        if len(count_word_spam) > 0:\n",
    "            count_word_spam = count_word_spam[0]\n",
    "        else:\n",
    "            count_word_spam = 1\n",
    "            \n",
    "        if len(count_word_ham) > 0:\n",
    "            count_word_ham = count_word_ham[0]\n",
    "        else:\n",
    "            count_word_ham = 1\n",
    "                    \n",
    "        p_word_ham = count_word_ham / total_ham\n",
    "        p_word_spam = count_word_spam / total_spam\n",
    "        \n",
    "        \n",
    "        entry = [word, p_word_ham, p_word_spam]\n",
    "        \n",
    "        df_entry = pd.DataFrame(data=[entry], columns=columns)\n",
    "        if df_p.shape[0] > 0:\n",
    "            df_p = pd.concat([df_p, df_entry])\n",
    "        else:\n",
    "            df_p = df_entry\n",
    "\n",
    "df_p = df_p.reset_index(drop=True)\n",
    "df_p.sample(10)"
   ]
  },
  {
   "cell_type": "code",
   "execution_count": 31,
   "id": "6ee4bc04-1b6e-4866-b275-3b2833be4038",
   "metadata": {},
   "outputs": [],
   "source": [
    "# these are the main components of the classifier that we need to store\n",
    "# this is basically the model of naive bayes classifier\n",
    "\n",
    "classifer_data = {\"df\": df_p, \"p_ham\": p_ham, \"p_spam\": p_spam}"
   ]
  },
  {
   "cell_type": "code",
   "execution_count": 32,
   "id": "72502053-7ec8-4b51-9e38-82b49b28f361",
   "metadata": {},
   "outputs": [
    {
     "data": {
      "text/html": [
       "<div>\n",
       "<style scoped>\n",
       "    .dataframe tbody tr th:only-of-type {\n",
       "        vertical-align: middle;\n",
       "    }\n",
       "\n",
       "    .dataframe tbody tr th {\n",
       "        vertical-align: top;\n",
       "    }\n",
       "\n",
       "    .dataframe thead th {\n",
       "        text-align: right;\n",
       "    }\n",
       "</style>\n",
       "<table border=\"1\" class=\"dataframe\">\n",
       "  <thead>\n",
       "    <tr style=\"text-align: right;\">\n",
       "      <th></th>\n",
       "      <th>prob_ham</th>\n",
       "      <th>prob_spam</th>\n",
       "    </tr>\n",
       "  </thead>\n",
       "  <tbody>\n",
       "    <tr>\n",
       "      <th>count</th>\n",
       "      <td>7852.000000</td>\n",
       "      <td>7852.000000</td>\n",
       "    </tr>\n",
       "    <tr>\n",
       "      <th>mean</th>\n",
       "      <td>0.000972</td>\n",
       "      <td>0.002822</td>\n",
       "    </tr>\n",
       "    <tr>\n",
       "      <th>std</th>\n",
       "      <td>0.003375</td>\n",
       "      <td>0.010043</td>\n",
       "    </tr>\n",
       "    <tr>\n",
       "      <th>min</th>\n",
       "      <td>0.000207</td>\n",
       "      <td>0.001339</td>\n",
       "    </tr>\n",
       "    <tr>\n",
       "      <th>25%</th>\n",
       "      <td>0.000207</td>\n",
       "      <td>0.001339</td>\n",
       "    </tr>\n",
       "    <tr>\n",
       "      <th>50%</th>\n",
       "      <td>0.000207</td>\n",
       "      <td>0.001339</td>\n",
       "    </tr>\n",
       "    <tr>\n",
       "      <th>75%</th>\n",
       "      <td>0.000415</td>\n",
       "      <td>0.001339</td>\n",
       "    </tr>\n",
       "    <tr>\n",
       "      <th>max</th>\n",
       "      <td>0.074611</td>\n",
       "      <td>0.489960</td>\n",
       "    </tr>\n",
       "  </tbody>\n",
       "</table>\n",
       "</div>"
      ],
      "text/plain": [
       "          prob_ham    prob_spam\n",
       "count  7852.000000  7852.000000\n",
       "mean      0.000972     0.002822\n",
       "std       0.003375     0.010043\n",
       "min       0.000207     0.001339\n",
       "25%       0.000207     0.001339\n",
       "50%       0.000207     0.001339\n",
       "75%       0.000415     0.001339\n",
       "max       0.074611     0.489960"
      ]
     },
     "execution_count": 32,
     "metadata": {},
     "output_type": "execute_result"
    }
   ],
   "source": [
    "df_p.describe()"
   ]
  },
  {
   "cell_type": "markdown",
   "id": "e0508672-820f-49c2-88ea-2b8d5338bbc6",
   "metadata": {},
   "source": [
    "## Testing / Classification"
   ]
  },
  {
   "cell_type": "code",
   "execution_count": 21,
   "id": "4e19160b-00ad-410c-a209-1c4f020bf9d9",
   "metadata": {},
   "outputs": [
    {
     "name": "stdout",
     "output_type": "stream",
     "text": [
      "[['ham', 'dont search love let love find that call fall love bcoz dont forc fall know smeon hold bslvyl']]\n"
     ]
    }
   ],
   "source": [
    "df_sample = df.sample(1).values.tolist()\n",
    "query = df_sample[0][1]\n",
    "actual_class = df_sample[0][0]\n",
    "\n",
    "print(df_sample)\n",
    "\n",
    "query_words = query.split(' ')"
   ]
  },
  {
   "cell_type": "code",
   "execution_count": 27,
   "id": "4803b5e8-2624-416a-ba1e-188bae49a531",
   "metadata": {},
   "outputs": [
    {
     "name": "stdout",
     "output_type": "stream",
     "text": [
      "Ham: 0.99997, Spam: 0.00003\n",
      "\n",
      "Predicted Class: ham\n",
      "Actual Class: ham\n"
     ]
    }
   ],
   "source": [
    "p_words_ham = 1\n",
    "p_words_spam = 1\n",
    "\n",
    "for word in query_words:\n",
    "    df_p_word = df_p[df_p[\"word\"] == word]\n",
    "\n",
    "    p_words_ham *= df_p_word['prob_ham'].values[0]\n",
    "    p_words_spam *= df_p_word['prob_spam'].values[0]\n",
    "\n",
    "p_words = (p_words_ham * p_ham) + (p_words_spam * p_spam)\n",
    "\n",
    "p_final_ham = p_words_ham * p_ham / p_words\n",
    "p_final_spam = p_words_spam * p_spam / p_words\n",
    "\n",
    "print(f\"Ham: {p_final_ham:.5f}, Spam: {p_final_spam:.5f}\")\n",
    "\n",
    "if p_final_ham > p_final_spam:\n",
    "    classified = 'ham'\n",
    "else:\n",
    "    classified = 'spam'\n",
    "\n",
    "print(\"\")\n",
    "print(f\"Predicted Class: {classified}\")\n",
    "print(f\"Actual Class: {actual_class}\")"
   ]
  },
  {
   "cell_type": "markdown",
   "id": "ef44af42-724a-4278-b877-35a3e29f9362",
   "metadata": {},
   "source": [
    "## Object Oriented Model"
   ]
  },
  {
   "cell_type": "code",
   "execution_count": null,
   "id": "75743598-99d1-47fa-8149-d9e7ea5062ee",
   "metadata": {},
   "outputs": [],
   "source": [
    "class NaiveBayes():\n",
    "    def __init__(self):\n",
    "        pass\n",
    "    def fit(self):\n",
    "        pass\n",
    "    def predict(self):\n",
    "        pass"
   ]
  }
 ],
 "metadata": {
  "kernelspec": {
   "display_name": "Python 3",
   "language": "python",
   "name": "python3"
  },
  "language_info": {
   "codemirror_mode": {
    "name": "ipython",
    "version": 3
   },
   "file_extension": ".py",
   "mimetype": "text/x-python",
   "name": "python",
   "nbconvert_exporter": "python",
   "pygments_lexer": "ipython3",
   "version": "3.9.18"
  }
 },
 "nbformat": 4,
 "nbformat_minor": 5
}
